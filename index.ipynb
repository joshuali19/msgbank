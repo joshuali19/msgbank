{
 "cells": [
  {
   "cell_type": "raw",
   "id": "18ef433d-a9f5-49dc-a4bb-1a189974da64",
   "metadata": {},
   "source": [
    "---\n",
    "title: \"Creating a Message Bank with Flask\"\n",
    "author: \"Joshua Li\"\n",
    "date: 02-17-2023\n",
    "execute: true\n",
    "jupyter: pic16b\n",
    "---"
   ]
  },
  {
   "cell_type": "markdown",
   "id": "e57e878b-eab4-4e88-a2aa-fd2f79ba8ce6",
   "metadata": {},
   "source": [
    "This post will look into creating a message bank using Flask. This message bank will allow for users to write in their own input, and to submit it to a database. They will also have the option to view past messages that have already been stored by the database. This post will direct you through the creation of this website. From this post, you will learn:\n",
    "\n",
    "1. [The basic files necessary to run a web app](#step1)\n",
    "2. [How to connect templates to a .py file](#step2)\n",
    "3. [How to implement a database for the message bank](#step3)\n",
    "4. [How to stylize your application](#step4)\n",
    "5. [How to host your application locally](#step5)\n",
    "\n",
    "Let's get started with building this message bank!\n",
    "\n",
    "**NOTE**: All of these files take its inspiration from a [lecture with examples]() **INSERT LINK HERE** in PIC 16B W23."
   ]
  },
  {
   "cell_type": "markdown",
   "id": "a6df99f4-896c-43ef-83e2-bfacfc8ffc92",
   "metadata": {},
   "source": [
    "# [The Starting Files]{#step1}"
   ]
  },
  {
   "cell_type": "markdown",
   "id": "a13542b6-a8ee-43d3-b39c-f9e7fc999ea1",
   "metadata": {},
   "source": [
    "Before going into the files necessary for creating a web application, please make sure that you have created a folder (preferably a cloned GitHub repository) to hold all of the files necessary. Please refer to the [official GitHub documentation]{https://docs.github.com/en/repositories/creating-and-managing-repositories/cloning-a-repository} for instructions for how to clone a GitHub repository onto your local machine.\n",
    "\n",
    "Now, starting with the files, it is important to have a couple of files. I will go through each of the files and how they add to the functionality of the web app.\n",
    "\n",
    "### app.py\n",
    "\n",
    "The first file to create is the file `app.py`. It does not necessarily need to be called this, but this file will house the code necessary for the app to even run. In this file, you will define some python functions to assist you in your web app, as well as wrapper functions that will help determine what to display on a website, and which link is associated with that. Here are some of the code snippets that will be seen in this file:\n",
    "\n",
    "```python\n",
    "import Flask\n",
    "\n",
    "app = Flask(__name__)\n",
    "\n",
    "@app.route('/')\n",
    "def main():\n",
    "    pass\n",
    "```\n",
    "\n",
    "From this example, we see that we use the `Flask` library to run this code. We then have a unique function not commonly seen in every day Python use, which is `@app.route`. This refers to a relative URL path that will run the subsequent function. In this case, this will take the base URL and run a function `main()`, and will display that as the webpage."
   ]
  },
  {
   "cell_type": "markdown",
   "id": "cecee9ad-cf71-462a-a61c-c3e3abfce615",
   "metadata": {},
   "source": [
    "## Templates\n",
    "\n",
    "Now that you have your `app.py` file, you now need to create templates that would act as what you would want to display on your website for given pages. In your directory, create a folder called `templates`, and begin to add template files in the form of `.html`.\n",
    "\n",
    "For starters, here are some tags that will be helpful for you to better understand what is going on in HTML notation:\n",
    "\n",
    "- `<title>`: sets the title of the webpage, displayed on the browser tab.\n",
    "- `<nav>`: section for navigation links\n",
    "- `<h1>`: heading\n",
    "- `<ul>`: unbulleted list\n",
    "- `<li>`: list element\n",
    "- `<a>`: link\n",
    "- `<section>`: defines section\n",
    "- `<header>`: heading of section\n",
    "\n",
    "If you would like to learn more, please check out this [link](https://www.w3schools.com/TAGS/default.asp).\n",
    "\n",
    "### base.html\n",
    "\n",
    "In this `.html` file, this will provide the basic template that the pages will follow, so that you don't have to repeat the same code over and over again for different web pages of this website. Here is the code for my `base.html`. I will walk through some of the logic of my code."
   ]
  },
  {
   "cell_type": "markdown",
   "id": "82deedaa-4ea6-4856-b1e6-292200688c25",
   "metadata": {},
   "source": [
    "```html\n",
    "<!doctype html>\n",
    "<!-- <link rel=\"stylesheet\" href=\"{{ url_for('static', filename='style.css') }}\"> -->\n",
    "<title>{% block title %}{% endblock %} - PIC16B Message Bank</title>\n",
    "<nav>\n",
    "  <h1 class=\"title\">Message Bank</h1>\n",
    "  <!-- <b>Navigation:</b> -->\n",
    "  <ul>\n",
    "      <li><a href=\"{{ url_for('submit') }}\">Submit A Message</a></li>\n",
    "      <li><a href=\"{{ url_for('view')}}\">View Random Messages</a></li>\n",
    "  </ul>\n",
    "</nav>\n",
    "<section class=\"content\">\n",
    "  <header>\n",
    "    {% block header %}{% endblock %}\n",
    "  </header>\n",
    "  {% block content %}{% endblock %}\n",
    "</section>\n",
    "```"
   ]
  },
  {
   "cell_type": "markdown",
   "id": "93458920-c976-49af-bdb2-161dd8363f95",
   "metadata": {},
   "source": [
    "First, I set my title for the webpage as `{% block title %}{% endblock %} - PIC16B Message Bank`. This brings us to some interesting notation, which is `{%` and `%}`. The purpose of those characters is to make anything within them a part of a template. So if another HTML file wants to overwrite the title in `base.html`, it can write anything in between `{% block title %}` and `{% endblock %}` to replace it. We will see this later.\n",
    "\n",
    "Then, we get to the navigation, which contains two links in a list to either `Submit A Message` or `View Random Messages`, each linked with the respective page that they should redirect to.\n",
    "\n",
    "Then, within the content section, we see again two more templates, one for the header and one for the content. We will see how we will alter this with different pages."
   ]
  },
  {
   "cell_type": "markdown",
   "id": "eec9e383-de70-4d33-a232-d904b07bd6f2",
   "metadata": {},
   "source": [
    "### submit.html\n",
    "\n",
    "The first page that we will need to make is a `submit.html`, so that users can write a message and submit it to the database. However, we do not need to rewrite the code written in `base.html`, but expand upon that by writing with the template blocks. Here is the code:"
   ]
  },
  {
   "cell_type": "markdown",
   "id": "d736a828-1ca5-4941-9ddb-89ccc70b9549",
   "metadata": {},
   "source": [
    "```html\n",
    "{% extends 'base.html' %}\n",
    "\n",
    "{% block title %} Submit a Message {% endblock %}\n",
    "\n",
    "{% block header %}\n",
    "  <h1> Submit a Message </h1>\n",
    "{% endblock %}\n",
    "\n",
    "{% block content %}\n",
    "  <form method=\"post\">\n",
    "    <label for=\"message\">Your Message:</label>\n",
    "      <br>\n",
    "    <textarea cols=\"80\" rows=\"10\" id=\"message\" type=\"text\" name=\"message\" required>\n",
    "</textarea>\n",
    "    <!--<input class = \"msg\" name=\"message\" id=\"message\">-->\n",
    "      <br>\n",
    "      <br>\n",
    "    <label for=\"user\">Your Name or Handle:</label>\n",
    "    <input name=\"user\" id=\"user\" required>\n",
    "      <br>\n",
    "      <br>\n",
    "      <div class=\"text-center\">\n",
    "    <input type=\"submit\" value=\"Submit message\">\n",
    "      </div>\n",
    "  </form>\n",
    "\n",
    "  {% if name %}\n",
    "<p><b>Thanks for submitting a message! Here is your message:</b></p>\n",
    "<p class=\"message\">&emsp; \"{{message}}\" </p>\n",
    "  {% endif %}\n",
    "\n",
    "  {% if error %}\n",
    "    <br>\n",
    "    Please fill out both your message and your handle.\n",
    "  {% endif %}\n",
    "{% endblock %}\n",
    "```"
   ]
  },
  {
   "cell_type": "markdown",
   "id": "a9a57b6f-5996-4b6a-a89e-715b6f5cec46",
   "metadata": {},
   "source": [
    "At the top, we see this code: `{% extends 'base.html'%}`. This lets our app know that this will build off of the template made from `base.html`. As I said earlier, we will only need to change the contents within the blocks, which is what we did. We change the title and header to display `Submit a Message`. We also change the content block with a `<form>` that will take in user input and allow them to submit that message.\n",
    "\n",
    "We see that there are two other blocks containing `if` statements. This will be run only if the condition is held, which we will cover how to control when this happens."
   ]
  },
  {
   "cell_type": "markdown",
   "id": "76ed6f25-7b77-4610-87c3-5994dcd58aae",
   "metadata": {},
   "source": [
    "### view.html\n",
    "\n",
    "The other page we need to create is the page to view other people's submissions. It will follow the same `base.html` template, but will display different information than `submit.html`. Here is the code:\n",
    "\n",
    "```html\n",
    "{% extends 'base.html' %}\n",
    "\n",
    "{% block header %}\n",
    "  <h1>{% block title %}Some Cool Messages{% endblock %}</h1>\n",
    "{% endblock %}\n",
    "\n",
    "{% block content %}\n",
    "  {% if msgs %}\n",
    "<p>Here are some of the messages people have sent!</p>\n",
    "    <br>\n",
    "    <br>\n",
    "    {% for msg in msgs %}\n",
    "        <div> \"{{ msg[1] }}\"\n",
    "            <br> &emsp;- {{ msg[0] }}\n",
    "    </div>\n",
    "    <br>\n",
    "    {% endfor %}\n",
    "  {% endif %}\n",
    "\n",
    "  {% if error %}\n",
    "    <br>\n",
    "    We could not display any messages. This is because there are no messages stored.\n",
    "  {% endif %}\n",
    "{% endblock %}\n",
    "```"
   ]
  },
  {
   "cell_type": "markdown",
   "id": "d42db1a5-94d9-4da0-b268-f5e8f54e8ab0",
   "metadata": {},
   "source": [
    "The logic is similar to that of `submit.html`, but now in the content block, we see that there is a for loop that will display messages if `msgs` is available."
   ]
  },
  {
   "cell_type": "markdown",
   "id": "a533ab9d-b8e3-469f-99d2-fcc759090243",
   "metadata": {},
   "source": [
    "These are the basic files that are necessary to run the file. Now, we need to work on piecing them all together so that `app.py` can connect to these pages and display them correctly."
   ]
  },
  {
   "cell_type": "markdown",
   "id": "f5328f73-6843-4d9c-8684-44bddcd9ee34",
   "metadata": {},
   "source": [
    "# [Connecting the Templates to app.py]{#step2}\n",
    "\n",
    "We need to connect all of these elements together, which will be implemented by creating wrapper functions that will run when the server calls a URL."
   ]
  },
  {
   "cell_type": "markdown",
   "id": "3d180547-29ae-4d5f-8df7-e2764a740695",
   "metadata": {},
   "source": [
    "```python\n",
    "from flask import Flask, g, render_template, request\n",
    "\n",
    "app = Flask(__name__)\n",
    "\n",
    "@app.route('/', methods=['POST', 'GET'])\n",
    "def submit():\n",
    "    if request.method == 'GET':\n",
    "        return render_template('submit.html') # default submit.html display\n",
    "    else: # if someone posts\n",
    "        try:\n",
    "            # insert the message to the database\n",
    "            msg, hndl = insert_message(request)\n",
    "            # display submit.html with conditions\n",
    "            return render_template('submit.html', name = hndl, message = msg)\n",
    "        except:\n",
    "            # return an error\n",
    "            return render_template('submit.html', error = True)\n",
    "\n",
    "@app.route('/view/')\n",
    "def view():\n",
    "    try:\n",
    "        # get 5 random messages\n",
    "        msgs = random_messages(5)\n",
    "        # display it\n",
    "        return render_template('view.html', msgs = msgs)\n",
    "    except:\n",
    "        # return an error\n",
    "        return render_template('view.html', error = True)\n",
    "```"
   ]
  },
  {
   "cell_type": "markdown",
   "id": "c1a6b2a6-7ff9-4269-996b-ad2734f3081a",
   "metadata": {},
   "source": [
    "We see that the `submit` page takes the base URL form through the `@app.route`. It contains two methods, which includes a `'GET'` and `'POST'`, one which displays before and after a message submission, respectively. It will call `render_template()`, which will render `submit.html`, which extends `base.html`. Depending on the situation, it may add some keyword arguments, which would change the display based on `if` statements that we have discussed in [Step 1](#step1). The same logic applies for `view.html`, which will redirect to a subpage with the path `/view/`, and run `view()` to render the page to view random messages."
   ]
  },
  {
   "cell_type": "markdown",
   "id": "ce4ebbad-b0c4-418c-8dea-17655872362d",
   "metadata": {},
   "source": [
    "Through these wrapper functions, whenever a user navigates through the message bank, this will help display the corresponding template correctly. Now, we need to connect this with the main purpose, which is to create messages and save it so that people can view it. This needs to be done through a database, which we would need to create functions in order to implement it with our web app."
   ]
  },
  {
   "cell_type": "markdown",
   "id": "2bb50c3f-b8c0-4b9e-92a0-27f4debc65d1",
   "metadata": {},
   "source": [
    "# [Implementing a Database]{#step3}\n",
    "\n",
    "In order to implement a database, we first need to create and get a database, and then add messages based on user submission, and pick a random amount to display.\n",
    "\n",
    "## Creation and Getting of Database\n",
    "\n",
    "```python\n",
    "import sqlite3\n",
    "\n",
    "DB_NAME = './messages_db.sqlite'\n",
    "def get_message_db():\n",
    "    '''\n",
    "    Retrieves the message database\n",
    "    @ output:\n",
    "    - g.message_db: a database storing messages\n",
    "    '''\n",
    "    try:\n",
    "        # returns a database\n",
    "        return g.message_db\n",
    "    except:\n",
    "        # connect to a database\n",
    "        with sqlite3.connect(DB_NAME) as conn:\n",
    "            g.message_db = conn\n",
    "            \n",
    "            # create a table if it doesn't exist\n",
    "            cursor = conn.cursor()\n",
    "            query = '''\n",
    "                    CREATE TABLE IF NOT EXISTS messages (\n",
    "                    id INTEGER PRIMARY KEY,\n",
    "                    username TEXT,\n",
    "                    message TEXT);\n",
    "                    '''\n",
    "            cursor.execute(query)\n",
    "            # return the database\n",
    "            return g.message_db\n",
    "```\n",
    "\n",
    "What this does is tries to retrieve the database. If it doesn't exist, it will create a connection and create a table within the database and return the database."
   ]
  },
  {
   "cell_type": "markdown",
   "id": "6a46c013-6013-428b-bfe5-eab87f29d4c8",
   "metadata": {
    "tags": []
   },
   "source": [
    "## Add Messages to Table\n",
    "\n",
    "```python\n",
    "def insert_message(request):\n",
    "    '''\n",
    "    inserts a message into the database\n",
    "    @ input:\n",
    "    - request: URL requesting data from\n",
    "    @ output:\n",
    "    - message (str): the message the user input\n",
    "    - handle (str): the handle of the user\n",
    "    '''\n",
    "    # obtain the request and the information\n",
    "    message = request.form['message']\n",
    "    handle = request.form['user'\n",
    "    \n",
    "    # get the table, and insert it into the table\n",
    "    with get_message_db() as conn:\n",
    "        cursor = conn.cursor()\n",
    "        cursor.execute(\"INSERT INTO messages (id, username, message) VALUES ((SELECT COUNT(*) FROM messages) + 1, ?, ?)\", (handle, message))\n",
    "        conn.commit() # save changes\n",
    "    # return message and handle\n",
    "    return message, handle\n",
    "```\n",
    "\n",
    "This function will take a request, assuming that a user has submitted a message, and output the message and handle. In between, the function will also take this message and handle and add it to the table through a SQL query."
   ]
  },
  {
   "cell_type": "markdown",
   "id": "6e86c826-c4b7-469e-b241-2bfaea3e71eb",
   "metadata": {},
   "source": [
    "## Get Random Messages\n",
    "\n",
    "```python\n",
    "def random_messages(n):\n",
    "    '''\n",
    "    picks at most n random messages from the message database.\n",
    "    @ input:\n",
    "    - n (int): how many messages to display\n",
    "    @ output:\n",
    "    - msgs (list): list of random messages\n",
    "    '''\n",
    "    # get the database\n",
    "    with get_message_db() as conn:\n",
    "        cursor = conn.cursor()\n",
    "        # select the random username and message\n",
    "        cursor.execute(\"SELECT username, message FROM messages ORDER BY RANDOM() LIMIT {0};\".format(n))\n",
    "        msgs = cursor.fetchall()\n",
    "        # return list\n",
    "        return msgs\n",
    "```\n",
    "\n",
    "This function takes in a number `n`, and obtains `n` random messages, which is stored on a list."
   ]
  },
  {
   "cell_type": "markdown",
   "id": "a75c6ac3-74b5-4b06-bef2-6af2caa16cc8",
   "metadata": {},
   "source": [
    "These functions are all helpful in the web app, allowing for a database to be utilized to store messages created by users and to retrieve said messages for viewers' entertainment."
   ]
  },
  {
   "cell_type": "markdown",
   "id": "dc07dee9-4009-45f8-9efa-499c92af0ab1",
   "metadata": {},
   "source": [
    "# [Stylizing your Web App]{#step4}\n",
    "\n",
    "Now that you have a functioning website, it looks unpolished within base HTML. It is quite simple to customize your own website so that it doesn't look unfinished or even suspicious. This is done by adding a `style.css` file, which contains information about CSS selectors and how to style them. Here are some of the things that I did to make it more polished.\n",
    "\n",
    "```css\n",
    "html {\n",
    "    font-family: sans-serif;\n",
    "    background: #DCD0FF;\n",
    "    padding: 1rem;\n",
    "}\n",
    "\n",
    "h1 {\n",
    "    color: rgb(0, 0, 0);\n",
    "    font-family: sans-serif;\n",
    "    margin: 1rem 0;\n",
    "    text-align: center;\n",
    "    padding: 10px 10px;\n",
    "    letter-spacing: 0px;\n",
    "}\n",
    "\n",
    "h1.title {\n",
    "    color: rgb(0, 0, 0);\n",
    "    font-family: sans-serif;\n",
    "    margin: 1rem 0;\n",
    "    text-align: center;\n",
    "    padding: 10px 10px;\n",
    "    font-size: 36px;\n",
    "    letter-spacing: 1px;\n",
    "}\n",
    "```"
   ]
  },
  {
   "cell_type": "markdown",
   "id": "da3a1911-eabe-409c-b104-3d9885562a56",
   "metadata": {},
   "source": [
    "There is a common structure placed among the `.css` file. It begins with an HTML tag, and within the brackets is a list of keywords that customize the contents within that respective tag. For example, the base text font within the `<html>` tag is `sans-serif`, and the background is lilac purple, as opposed to a generic white. Further customization is done to make the website look nice, and I would highly encourage you to look at the [official CSS documentation]() **<--INSERT LINK HERE** for more information."
   ]
  },
  {
   "cell_type": "markdown",
   "id": "9312551e-ffcc-46c7-8254-95a9823d9fe2",
   "metadata": {},
   "source": [
    "Here is a screen cap of what the website looks like before and after the customization efforts.\n",
    "\n",
    "![Before Stylization](newplot.png)\n",
    "![After Stylization](newplot2.png)"
   ]
  },
  {
   "cell_type": "markdown",
   "id": "c74f5867-1c9b-49ee-bb32-3dabfcc17cbe",
   "metadata": {},
   "source": [
    "# [Hosting your Web App]{#step5}\n",
    "\n",
    "Awesome! You now have a fully functioning web application that will take in messages from users and display them on a page to view. How do you access this website though? This can be done through the terminal locally. Please open up a terminal with the repository as your working directory. Then, run these lines on your command line.\n",
    "\n",
    "```\n",
    "export FLASK_ENV=development\n",
    "flask run\n",
    "```"
   ]
  },
  {
   "cell_type": "markdown",
   "id": "53e5b83a-2db7-4266-a8e1-5000f4abb653",
   "metadata": {},
   "source": [
    "The output of `flask run` should give out a local path that you can type into your browser window to display your web app. Pictured below is an example of the output:\n",
    "\n",
    "![Command line Output](newplot.png)"
   ]
  },
  {
   "cell_type": "markdown",
   "id": "0a5403df-323f-4ee8-af63-8d1c83a70d6b",
   "metadata": {},
   "source": [
    "Now, you can see the fruits of your labor! This interface is helpful if you want to debug some of your code if something is not working properly, or to test out different customizations in CSS. You can also test out the functionality of the web app!"
   ]
  },
  {
   "cell_type": "markdown",
   "id": "7e5a2ad6-cfb5-4537-9f89-f2b260d15f04",
   "metadata": {},
   "source": [
    "Here is what some of my website looks like. This is what the website looks like when the user wants to submit their own message.\n",
    "\n",
    "![User Message](newplot.png)\n",
    "\n",
    "This is what it looks like when a user submits to confirm that it has successfully been submitted.\n",
    "\n",
    "![Message Confirmation](newplot.png)\n",
    "\n",
    "This is what it looks like when a user goes to view some random messages.\n",
    "\n",
    "![View_Messages](newplot.png)"
   ]
  },
  {
   "cell_type": "markdown",
   "id": "c139bb18-fda9-44c4-a4d7-e75e14f9c45d",
   "metadata": {},
   "source": [
    "Obviously, your website does not need to look like this, as it will be customized to how you like it. But for now, this is a cool little website that you can personally enjoy."
   ]
  },
  {
   "cell_type": "markdown",
   "id": "9493d8da-af87-4199-a938-9058c9d19aa7",
   "metadata": {},
   "source": [
    "# Conclusion"
   ]
  },
  {
   "cell_type": "markdown",
   "id": "14cdd18b-fd59-4487-b92b-29cd6ce18a1b",
   "metadata": {},
   "source": [
    "Congratulations! You now know how to create a web app and to customize it! There are some next steps, such as hosting it on an actual domain, but for now you have created a great application! Play around with the customization and try to add your own features! If you would like to look at my code, please take a look at this [repository](https://github.com/joshuali19/msgbank)."
   ]
  }
 ],
 "metadata": {
  "kernelspec": {
   "display_name": "Python [conda env:PIC16B] *",
   "language": "python",
   "name": "conda-env-PIC16B-py"
  },
  "language_info": {
   "codemirror_mode": {
    "name": "ipython",
    "version": 3
   },
   "file_extension": ".py",
   "mimetype": "text/x-python",
   "name": "python",
   "nbconvert_exporter": "python",
   "pygments_lexer": "ipython3",
   "version": "3.8.15"
  }
 },
 "nbformat": 4,
 "nbformat_minor": 5
}
